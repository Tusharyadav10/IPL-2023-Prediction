{
 "cells": [
  {
   "cell_type": "code",
   "execution_count": 1,
   "id": "49f5cf7a",
   "metadata": {},
   "outputs": [],
   "source": [
    "# Importing modules\n",
    "import pandas as pd\n",
    "import numpy as np"
   ]
  },
  {
   "cell_type": "code",
   "execution_count": 11,
   "id": "6f716a46",
   "metadata": {},
   "outputs": [],
   "source": [
    "matches = pd.read_csv(r\"./DataSet/IPL_Ball_by_Ball_2008_2022.csv\")"
   ]
  },
  {
   "cell_type": "code",
   "execution_count": 12,
   "id": "aea1ab83",
   "metadata": {},
   "outputs": [
    {
     "data": {
      "text/html": [
       "<div>\n",
       "<style scoped>\n",
       "    .dataframe tbody tr th:only-of-type {\n",
       "        vertical-align: middle;\n",
       "    }\n",
       "\n",
       "    .dataframe tbody tr th {\n",
       "        vertical-align: top;\n",
       "    }\n",
       "\n",
       "    .dataframe thead th {\n",
       "        text-align: right;\n",
       "    }\n",
       "</style>\n",
       "<table border=\"1\" class=\"dataframe\">\n",
       "  <thead>\n",
       "    <tr style=\"text-align: right;\">\n",
       "      <th></th>\n",
       "      <th>ID</th>\n",
       "      <th>innings</th>\n",
       "      <th>overs</th>\n",
       "      <th>ballnumber</th>\n",
       "      <th>batsman_run</th>\n",
       "      <th>extras_run</th>\n",
       "      <th>total_run</th>\n",
       "      <th>non_boundary</th>\n",
       "      <th>isWicketDelivery</th>\n",
       "    </tr>\n",
       "  </thead>\n",
       "  <tbody>\n",
       "    <tr>\n",
       "      <th>count</th>\n",
       "      <td>2.259540e+05</td>\n",
       "      <td>225954.000000</td>\n",
       "      <td>225954.000000</td>\n",
       "      <td>225954.000000</td>\n",
       "      <td>225954.000000</td>\n",
       "      <td>225954.000000</td>\n",
       "      <td>225954.00000</td>\n",
       "      <td>225954.000000</td>\n",
       "      <td>225954.000000</td>\n",
       "    </tr>\n",
       "    <tr>\n",
       "      <th>mean</th>\n",
       "      <td>8.320470e+05</td>\n",
       "      <td>1.483868</td>\n",
       "      <td>9.185679</td>\n",
       "      <td>3.619750</td>\n",
       "      <td>1.243523</td>\n",
       "      <td>0.066907</td>\n",
       "      <td>1.31043</td>\n",
       "      <td>0.000093</td>\n",
       "      <td>0.049351</td>\n",
       "    </tr>\n",
       "    <tr>\n",
       "      <th>std</th>\n",
       "      <td>3.379542e+05</td>\n",
       "      <td>0.503104</td>\n",
       "      <td>5.681797</td>\n",
       "      <td>1.810633</td>\n",
       "      <td>1.618166</td>\n",
       "      <td>0.341470</td>\n",
       "      <td>1.60605</td>\n",
       "      <td>0.009640</td>\n",
       "      <td>0.216600</td>\n",
       "    </tr>\n",
       "    <tr>\n",
       "      <th>min</th>\n",
       "      <td>3.359820e+05</td>\n",
       "      <td>1.000000</td>\n",
       "      <td>0.000000</td>\n",
       "      <td>1.000000</td>\n",
       "      <td>0.000000</td>\n",
       "      <td>0.000000</td>\n",
       "      <td>0.00000</td>\n",
       "      <td>0.000000</td>\n",
       "      <td>0.000000</td>\n",
       "    </tr>\n",
       "    <tr>\n",
       "      <th>25%</th>\n",
       "      <td>5.012620e+05</td>\n",
       "      <td>1.000000</td>\n",
       "      <td>4.000000</td>\n",
       "      <td>2.000000</td>\n",
       "      <td>0.000000</td>\n",
       "      <td>0.000000</td>\n",
       "      <td>0.00000</td>\n",
       "      <td>0.000000</td>\n",
       "      <td>0.000000</td>\n",
       "    </tr>\n",
       "    <tr>\n",
       "      <th>50%</th>\n",
       "      <td>8.297370e+05</td>\n",
       "      <td>1.000000</td>\n",
       "      <td>9.000000</td>\n",
       "      <td>4.000000</td>\n",
       "      <td>1.000000</td>\n",
       "      <td>0.000000</td>\n",
       "      <td>1.00000</td>\n",
       "      <td>0.000000</td>\n",
       "      <td>0.000000</td>\n",
       "    </tr>\n",
       "    <tr>\n",
       "      <th>75%</th>\n",
       "      <td>1.178395e+06</td>\n",
       "      <td>2.000000</td>\n",
       "      <td>14.000000</td>\n",
       "      <td>5.000000</td>\n",
       "      <td>1.000000</td>\n",
       "      <td>0.000000</td>\n",
       "      <td>1.00000</td>\n",
       "      <td>0.000000</td>\n",
       "      <td>0.000000</td>\n",
       "    </tr>\n",
       "    <tr>\n",
       "      <th>max</th>\n",
       "      <td>1.312200e+06</td>\n",
       "      <td>6.000000</td>\n",
       "      <td>19.000000</td>\n",
       "      <td>10.000000</td>\n",
       "      <td>6.000000</td>\n",
       "      <td>7.000000</td>\n",
       "      <td>7.00000</td>\n",
       "      <td>1.000000</td>\n",
       "      <td>1.000000</td>\n",
       "    </tr>\n",
       "  </tbody>\n",
       "</table>\n",
       "</div>"
      ],
      "text/plain": [
       "                 ID        innings          overs     ballnumber  \\\n",
       "count  2.259540e+05  225954.000000  225954.000000  225954.000000   \n",
       "mean   8.320470e+05       1.483868       9.185679       3.619750   \n",
       "std    3.379542e+05       0.503104       5.681797       1.810633   \n",
       "min    3.359820e+05       1.000000       0.000000       1.000000   \n",
       "25%    5.012620e+05       1.000000       4.000000       2.000000   \n",
       "50%    8.297370e+05       1.000000       9.000000       4.000000   \n",
       "75%    1.178395e+06       2.000000      14.000000       5.000000   \n",
       "max    1.312200e+06       6.000000      19.000000      10.000000   \n",
       "\n",
       "         batsman_run     extras_run     total_run   non_boundary  \\\n",
       "count  225954.000000  225954.000000  225954.00000  225954.000000   \n",
       "mean        1.243523       0.066907       1.31043       0.000093   \n",
       "std         1.618166       0.341470       1.60605       0.009640   \n",
       "min         0.000000       0.000000       0.00000       0.000000   \n",
       "25%         0.000000       0.000000       0.00000       0.000000   \n",
       "50%         1.000000       0.000000       1.00000       0.000000   \n",
       "75%         1.000000       0.000000       1.00000       0.000000   \n",
       "max         6.000000       7.000000       7.00000       1.000000   \n",
       "\n",
       "       isWicketDelivery  \n",
       "count     225954.000000  \n",
       "mean           0.049351  \n",
       "std            0.216600  \n",
       "min            0.000000  \n",
       "25%            0.000000  \n",
       "50%            0.000000  \n",
       "75%            0.000000  \n",
       "max            1.000000  "
      ]
     },
     "execution_count": 12,
     "metadata": {},
     "output_type": "execute_result"
    }
   ],
   "source": [
    "matches.describe()"
   ]
  },
  {
   "cell_type": "code",
   "execution_count": 3,
   "id": "c16abf3d",
   "metadata": {},
   "outputs": [],
   "source": [
    "def split_train_test(data, test_ratio):\n",
    "    np.random.seed(42)\n",
    "    shuffled = np.random.permutation(len(data))\n",
    "    test_set_size = int(len(data) * test_ratio)\n",
    "    test_indices = shuffled[:test_set_size]\n",
    "    train_indices = shuffled[test_set_size:]\n",
    "    return data.iloc[train_indices], data.iloc[test_indices]\n",
    "\n",
    "#train_set, test_set = split_train_test(matches, 0.2)"
   ]
  },
  {
   "cell_type": "code",
   "execution_count": 5,
   "id": "abfe6d36",
   "metadata": {
    "collapsed": true
   },
   "outputs": [
    {
     "name": "stdout",
     "output_type": "stream",
     "text": [
      "Rows in train set: 180764\n",
      "Rows in test set: 45190\n"
     ]
    }
   ],
   "source": [
    "#print(f\"Rows in train set: {len(train_set)}\\nRows in test set: {len(test_set)}\")"
   ]
  },
  {
   "cell_type": "code",
   "execution_count": 6,
   "id": "f1accb2f",
   "metadata": {},
   "outputs": [
    {
     "name": "stdout",
     "output_type": "stream",
     "text": [
      "Rows in train set: 180763\n",
      "Rows in test set: 45191\n"
     ]
    }
   ],
   "source": [
    "from sklearn.model_selection import train_test_split\n",
    "\n",
    "train_set, test_set = train_test_split(matches, test_size=0.2, random_state=42)\n",
    "\n",
    "print(f\"Rows in train set: {len(train_set)}\\nRows in test set: {len(test_set)}\")"
   ]
  },
  {
   "cell_type": "code",
   "execution_count": 10,
   "id": "4eed41fb",
   "metadata": {
    "scrolled": true
   },
   "outputs": [
    {
     "name": "stdout",
     "output_type": "stream",
     "text": [
      "             ID  innings  overs  ballnumber       batter             bowler  \\\n",
      "195074   419121        1     14           2       M Kaif           L Balaji   \n",
      "61483   1136619        1      5           3     S Dhawan          SP Narine   \n",
      "31719   1254060        1     19           4   KD Karthik            B Kumar   \n",
      "9774    1304080        2      1           5      PP Shaw  M Prasidh Krishna   \n",
      "81048   1082627        2     12           4   SP Jackson     Mohammed Siraj   \n",
      "...         ...      ...    ...         ...          ...                ...   \n",
      "119879   734027        2     12           2      V Kohli          SP Narine   \n",
      "103694   829823        2     19           3    MM Sharma      R Vinay Kumar   \n",
      "131932   598071        1      5           1     S Dhawan          SR Watson   \n",
      "146867   598009        2      6           1  LRPL Taylor        JP Faulkner   \n",
      "121958   734009        1     10           5    AT Rayudu    Shakib Al Hasan   \n",
      "\n",
      "            non-striker extra_type  batsman_run  extras_run  total_run  \\\n",
      "195074     Yuvraj Singh        NaN            2           0          2   \n",
      "61483           WP Saha        NaN            1           0          1   \n",
      "31719   Shakib Al Hasan      wides            0           1          1   \n",
      "9774          DA Warner        NaN            0           0          0   \n",
      "81048         YK Pathan        NaN            0           0          0   \n",
      "...                 ...        ...          ...         ...        ...   \n",
      "119879      YV Takawale        NaN            0           0          0   \n",
      "103694        RA Jadeja        NaN            6           0          6   \n",
      "131932         CL White        NaN            0           0          0   \n",
      "146867         AJ Finch        NaN            1           0          1   \n",
      "121958        RG Sharma        NaN            0           0          0   \n",
      "\n",
      "        non_boundary  isWicketDelivery player_out kind fielders_involved  \\\n",
      "195074             0                 0        NaN  NaN               NaN   \n",
      "61483              0                 0        NaN  NaN               NaN   \n",
      "31719              0                 0        NaN  NaN               NaN   \n",
      "9774               0                 0        NaN  NaN               NaN   \n",
      "81048              0                 0        NaN  NaN               NaN   \n",
      "...              ...               ...        ...  ...               ...   \n",
      "119879             0                 0        NaN  NaN               NaN   \n",
      "103694             0                 0        NaN  NaN               NaN   \n",
      "131932             0                 0        NaN  NaN               NaN   \n",
      "146867             0                 0        NaN  NaN               NaN   \n",
      "121958             0                 0        NaN  NaN               NaN   \n",
      "\n",
      "                        BattingTeam  \n",
      "195074              Kings XI Punjab  \n",
      "61483           Sunrisers Hyderabad  \n",
      "31719         Kolkata Knight Riders  \n",
      "9774                 Delhi Capitals  \n",
      "81048         Kolkata Knight Riders  \n",
      "...                             ...  \n",
      "119879  Royal Challengers Bangalore  \n",
      "103694          Chennai Super Kings  \n",
      "131932          Sunrisers Hyderabad  \n",
      "146867                Pune Warriors  \n",
      "121958               Mumbai Indians  \n",
      "\n",
      "[180763 rows x 17 columns]\n"
     ]
    }
   ],
   "source": [
    "print(train_set)"
   ]
  },
  {
   "cell_type": "code",
   "execution_count": 15,
   "id": "85b0a9be",
   "metadata": {},
   "outputs": [
    {
     "name": "stdout",
     "output_type": "stream",
     "text": [
      "<class 'pandas.core.frame.DataFrame'>\n",
      "Int64Index: 45191 entries, 68028 to 164825\n",
      "Data columns (total 17 columns):\n",
      " #   Column             Non-Null Count  Dtype \n",
      "---  ------             --------------  ----- \n",
      " 0   ID                 45191 non-null  int64 \n",
      " 1   innings            45191 non-null  int64 \n",
      " 2   overs              45191 non-null  int64 \n",
      " 3   ballnumber         45191 non-null  int64 \n",
      " 4   batter             45191 non-null  object\n",
      " 5   bowler             45191 non-null  object\n",
      " 6   non-striker        45191 non-null  object\n",
      " 7   extra_type         2388 non-null   object\n",
      " 8   batsman_run        45191 non-null  int64 \n",
      " 9   extras_run         45191 non-null  int64 \n",
      " 10  total_run          45191 non-null  int64 \n",
      " 11  non_boundary       45191 non-null  int64 \n",
      " 12  isWicketDelivery   45191 non-null  int64 \n",
      " 13  player_out         2230 non-null   object\n",
      " 14  kind               2230 non-null   object\n",
      " 15  fielders_involved  1582 non-null   object\n",
      " 16  BattingTeam        45191 non-null  object\n",
      "dtypes: int64(9), object(8)\n",
      "memory usage: 6.2+ MB\n"
     ]
    }
   ],
   "source": [
    "from sklearn.model_selection import StratifiedShuffleSplit\n",
    "\n",
    "split = StratifiedShuffleSplit(n_splits=1, test_size=0.2, random_state=42)\n",
    "for train_index, test_index in split.split(matches, matches[\"isWicketDelivery\"]):\n",
    "    strat_train_set = matches.loc[train_index]\n",
    "    strat_test_set = matches.loc[test_index]\n",
    "    \n",
    "strat_test_set.info()"
   ]
  },
  {
   "cell_type": "code",
   "execution_count": 19,
   "id": "d9a17e79",
   "metadata": {},
   "outputs": [
    {
     "data": {
      "text/plain": [
       "0    171842\n",
       "1      8921\n",
       "Name: isWicketDelivery, dtype: int64"
      ]
     },
     "execution_count": 19,
     "metadata": {},
     "output_type": "execute_result"
    }
   ],
   "source": [
    "strat_train_set[\"isWicketDelivery\"].value_counts()"
   ]
  }
 ],
 "metadata": {
  "kernelspec": {
   "display_name": "Python 3 (ipykernel)",
   "language": "python",
   "name": "python3"
  },
  "language_info": {
   "codemirror_mode": {
    "name": "ipython",
    "version": 3
   },
   "file_extension": ".py",
   "mimetype": "text/x-python",
   "name": "python",
   "nbconvert_exporter": "python",
   "pygments_lexer": "ipython3",
   "version": "3.9.13"
  }
 },
 "nbformat": 4,
 "nbformat_minor": 5
}
