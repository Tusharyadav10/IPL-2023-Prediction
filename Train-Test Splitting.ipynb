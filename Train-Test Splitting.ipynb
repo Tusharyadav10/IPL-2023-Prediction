{
 "cells": [
  {
   "cell_type": "code",
   "execution_count": 4,
   "id": "49f5cf7a",
   "metadata": {},
   "outputs": [],
   "source": [
    "# Importing modules\n",
    "import pandas as pd\n",
    "import numpy as np\n",
    "from sklearn.preprocessing import LabelEncoder"
   ]
  },
  {
   "cell_type": "code",
   "execution_count": 2,
   "id": "6f716a46",
   "metadata": {},
   "outputs": [],
   "source": [
    "matches = pd.read_csv(\"cleaned_data2.csv\")"
   ]
  },
  {
   "cell_type": "code",
   "execution_count": 5,
   "id": "aea1ab83",
   "metadata": {},
   "outputs": [
    {
     "name": "stdout",
     "output_type": "stream",
     "text": [
      "<class 'pandas.core.frame.DataFrame'>\n",
      "RangeIndex: 1928 entries, 0 to 1927\n",
      "Data columns (total 12 columns):\n",
      " #   Column        Non-Null Count  Dtype \n",
      "---  ------        --------------  ----- \n",
      " 0   ID            1928 non-null   int64 \n",
      " 1   innings       1928 non-null   int64 \n",
      " 2   BattingTeam   1928 non-null   object\n",
      " 3   TotalRuns     1928 non-null   int64 \n",
      " 4   Team1         1928 non-null   object\n",
      " 5   Team2         1928 non-null   object\n",
      " 6   Venue         1928 non-null   object\n",
      " 7   TossWinner    1928 non-null   object\n",
      " 8   TossDecision  1928 non-null   object\n",
      " 9   WinningTeam   1922 non-null   object\n",
      " 10  Team1Players  1928 non-null   object\n",
      " 11  Team2Players  1928 non-null   object\n",
      "dtypes: int64(3), object(9)\n",
      "memory usage: 180.9+ KB\n"
     ]
    }
   ],
   "source": [
    "matches.info()"
   ]
  },
  {
   "cell_type": "markdown",
   "id": "8662b9e7",
   "metadata": {},
   "source": [
    "# Handling Text Attributes"
   ]
  },
  {
   "cell_type": "code",
   "execution_count": 18,
   "id": "787f3db7",
   "metadata": {},
   "outputs": [
    {
     "name": "stdout",
     "output_type": "stream",
     "text": [
      "<class 'pandas.core.series.Series'>\n"
     ]
    },
    {
     "data": {
      "text/plain": [
       "array([16, 16,  6, ..., 16, 13, 13], dtype=int64)"
      ]
     },
     "execution_count": 18,
     "metadata": {},
     "output_type": "execute_result"
    }
   ],
   "source": [
    "encoder = LabelEncoder()\n",
    "team1 = matches['Team1']\n",
    "print(type(team1))\n",
    "team1_encoded = encoder.fit_transform(team1)\n",
    "matches['Team1'] = team1_encoded\n",
    "team1_encoded"
   ]
  },
  {
   "cell_type": "code",
   "execution_count": 19,
   "id": "d4825e42",
   "metadata": {},
   "outputs": [
    {
     "data": {
      "text/html": [
       "<div>\n",
       "<style scoped>\n",
       "    .dataframe tbody tr th:only-of-type {\n",
       "        vertical-align: middle;\n",
       "    }\n",
       "\n",
       "    .dataframe tbody tr th {\n",
       "        vertical-align: top;\n",
       "    }\n",
       "\n",
       "    .dataframe thead th {\n",
       "        text-align: right;\n",
       "    }\n",
       "</style>\n",
       "<table border=\"1\" class=\"dataframe\">\n",
       "  <thead>\n",
       "    <tr style=\"text-align: right;\">\n",
       "      <th></th>\n",
       "      <th>ID</th>\n",
       "      <th>innings</th>\n",
       "      <th>BattingTeam</th>\n",
       "      <th>TotalRuns</th>\n",
       "      <th>Team1</th>\n",
       "      <th>Team2</th>\n",
       "      <th>Venue</th>\n",
       "      <th>TossWinner</th>\n",
       "      <th>TossDecision</th>\n",
       "      <th>WinningTeam</th>\n",
       "      <th>Team1Players</th>\n",
       "      <th>Team2Players</th>\n",
       "    </tr>\n",
       "  </thead>\n",
       "  <tbody>\n",
       "    <tr>\n",
       "      <th>0</th>\n",
       "      <td>335982</td>\n",
       "      <td>1</td>\n",
       "      <td>Kolkata Knight Riders</td>\n",
       "      <td>222</td>\n",
       "      <td>16</td>\n",
       "      <td>8</td>\n",
       "      <td>M Chinnaswamy Stadium</td>\n",
       "      <td>Royal Challengers Bangalore</td>\n",
       "      <td>field</td>\n",
       "      <td>Kolkata Knight Riders</td>\n",
       "      <td>['R Dravid', 'W Jaffer', 'V Kohli', 'JH Kallis...</td>\n",
       "      <td>['SC Ganguly', 'BB McCullum', 'RT Ponting', 'D...</td>\n",
       "    </tr>\n",
       "  </tbody>\n",
       "</table>\n",
       "</div>"
      ],
      "text/plain": [
       "       ID  innings            BattingTeam  TotalRuns  Team1  Team2  \\\n",
       "0  335982        1  Kolkata Knight Riders        222     16      8   \n",
       "\n",
       "                   Venue                   TossWinner TossDecision  \\\n",
       "0  M Chinnaswamy Stadium  Royal Challengers Bangalore        field   \n",
       "\n",
       "             WinningTeam                                       Team1Players  \\\n",
       "0  Kolkata Knight Riders  ['R Dravid', 'W Jaffer', 'V Kohli', 'JH Kallis...   \n",
       "\n",
       "                                        Team2Players  \n",
       "0  ['SC Ganguly', 'BB McCullum', 'RT Ponting', 'D...  "
      ]
     },
     "execution_count": 19,
     "metadata": {},
     "output_type": "execute_result"
    }
   ],
   "source": [
    "encoder = LabelEncoder()\n",
    "team2 = matches['Team2']\n",
    "\n",
    "team2_encoded = encoder.fit_transform(team2)\n",
    "matches['Team2'] = team2_encoded\n",
    "matches.head(1)"
   ]
  },
  {
   "cell_type": "markdown",
   "id": "d6ff053e",
   "metadata": {},
   "source": [
    "# Train-Test Split"
   ]
  },
  {
   "cell_type": "code",
   "execution_count": 3,
   "id": "c16abf3d",
   "metadata": {},
   "outputs": [],
   "source": [
    "def split_train_test(data, test_ratio):\n",
    "    np.random.seed(42)\n",
    "    shuffled = np.random.permutation(len(data))\n",
    "    test_set_size = int(len(data) * test_ratio)\n",
    "    test_indices = shuffled[:test_set_size]\n",
    "    train_indices = shuffled[test_set_size:]\n",
    "    return data.iloc[train_indices], data.iloc[test_indices]\n",
    "\n",
    "#train_set, test_set = split_train_test(matches, 0.2)"
   ]
  },
  {
   "cell_type": "code",
   "execution_count": 5,
   "id": "abfe6d36",
   "metadata": {
    "collapsed": true
   },
   "outputs": [
    {
     "name": "stdout",
     "output_type": "stream",
     "text": [
      "Rows in train set: 180764\n",
      "Rows in test set: 45190\n"
     ]
    }
   ],
   "source": [
    "#print(f\"Rows in train set: {len(train_set)}\\nRows in test set: {len(test_set)}\")"
   ]
  },
  {
   "cell_type": "code",
   "execution_count": 20,
   "id": "f1accb2f",
   "metadata": {},
   "outputs": [
    {
     "name": "stdout",
     "output_type": "stream",
     "text": [
      "Rows in train set: 1542\n",
      "Rows in test set: 386\n"
     ]
    }
   ],
   "source": [
    "from sklearn.model_selection import train_test_split\n",
    "\n",
    "train_set, test_set = train_test_split(matches, test_size=0.2, random_state=42)\n",
    "\n",
    "print(f\"Rows in train set: {len(train_set)}\\nRows in test set: {len(test_set)}\")"
   ]
  },
  {
   "cell_type": "code",
   "execution_count": 22,
   "id": "4eed41fb",
   "metadata": {
    "scrolled": true
   },
   "outputs": [
    {
     "data": {
      "text/html": [
       "<div>\n",
       "<style scoped>\n",
       "    .dataframe tbody tr th:only-of-type {\n",
       "        vertical-align: middle;\n",
       "    }\n",
       "\n",
       "    .dataframe tbody tr th {\n",
       "        vertical-align: top;\n",
       "    }\n",
       "\n",
       "    .dataframe thead th {\n",
       "        text-align: right;\n",
       "    }\n",
       "</style>\n",
       "<table border=\"1\" class=\"dataframe\">\n",
       "  <thead>\n",
       "    <tr style=\"text-align: right;\">\n",
       "      <th></th>\n",
       "      <th>ID</th>\n",
       "      <th>innings</th>\n",
       "      <th>BattingTeam</th>\n",
       "      <th>TotalRuns</th>\n",
       "      <th>Team1</th>\n",
       "      <th>Team2</th>\n",
       "      <th>Venue</th>\n",
       "      <th>TossWinner</th>\n",
       "      <th>TossDecision</th>\n",
       "      <th>WinningTeam</th>\n",
       "      <th>Team1Players</th>\n",
       "      <th>Team2Players</th>\n",
       "    </tr>\n",
       "  </thead>\n",
       "  <tbody>\n",
       "    <tr>\n",
       "      <th>1352</th>\n",
       "      <td>1136595</td>\n",
       "      <td>1</td>\n",
       "      <td>Royal Challengers Bangalore</td>\n",
       "      <td>127</td>\n",
       "      <td>16</td>\n",
       "      <td>0</td>\n",
       "      <td>Maharashtra Cricket Association Stadium</td>\n",
       "      <td>Chennai Super Kings</td>\n",
       "      <td>field</td>\n",
       "      <td>Chennai Super Kings</td>\n",
       "      <td>['PA Patel', 'BB McCullum', 'V Kohli', 'AB de ...</td>\n",
       "      <td>['SR Watson', 'AT Rayudu', 'SK Raina', 'DR Sho...</td>\n",
       "    </tr>\n",
       "  </tbody>\n",
       "</table>\n",
       "</div>"
      ],
      "text/plain": [
       "           ID  innings                  BattingTeam  TotalRuns  Team1  Team2  \\\n",
       "1352  1136595        1  Royal Challengers Bangalore        127     16      0   \n",
       "\n",
       "                                        Venue           TossWinner  \\\n",
       "1352  Maharashtra Cricket Association Stadium  Chennai Super Kings   \n",
       "\n",
       "     TossDecision          WinningTeam  \\\n",
       "1352        field  Chennai Super Kings   \n",
       "\n",
       "                                           Team1Players  \\\n",
       "1352  ['PA Patel', 'BB McCullum', 'V Kohli', 'AB de ...   \n",
       "\n",
       "                                           Team2Players  \n",
       "1352  ['SR Watson', 'AT Rayudu', 'SK Raina', 'DR Sho...  "
      ]
     },
     "execution_count": 22,
     "metadata": {},
     "output_type": "execute_result"
    }
   ],
   "source": [
    "train_set.head(1)"
   ]
  },
  {
   "cell_type": "code",
   "execution_count": 15,
   "id": "85b0a9be",
   "metadata": {},
   "outputs": [
    {
     "name": "stdout",
     "output_type": "stream",
     "text": [
      "<class 'pandas.core.frame.DataFrame'>\n",
      "Int64Index: 45191 entries, 68028 to 164825\n",
      "Data columns (total 17 columns):\n",
      " #   Column             Non-Null Count  Dtype \n",
      "---  ------             --------------  ----- \n",
      " 0   ID                 45191 non-null  int64 \n",
      " 1   innings            45191 non-null  int64 \n",
      " 2   overs              45191 non-null  int64 \n",
      " 3   ballnumber         45191 non-null  int64 \n",
      " 4   batter             45191 non-null  object\n",
      " 5   bowler             45191 non-null  object\n",
      " 6   non-striker        45191 non-null  object\n",
      " 7   extra_type         2388 non-null   object\n",
      " 8   batsman_run        45191 non-null  int64 \n",
      " 9   extras_run         45191 non-null  int64 \n",
      " 10  total_run          45191 non-null  int64 \n",
      " 11  non_boundary       45191 non-null  int64 \n",
      " 12  isWicketDelivery   45191 non-null  int64 \n",
      " 13  player_out         2230 non-null   object\n",
      " 14  kind               2230 non-null   object\n",
      " 15  fielders_involved  1582 non-null   object\n",
      " 16  BattingTeam        45191 non-null  object\n",
      "dtypes: int64(9), object(8)\n",
      "memory usage: 6.2+ MB\n"
     ]
    }
   ],
   "source": [
    "from sklearn.model_selection import StratifiedShuffleSplit\n",
    "\n",
    "split = StratifiedShuffleSplit(n_splits=1, test_size=0.2, random_state=42)\n",
    "for train_index, test_index in split.split(matches, matches[\"isWicketDelivery\"]):\n",
    "    strat_train_set = matches.loc[train_index]\n",
    "    strat_test_set = matches.loc[test_index]\n",
    "    \n",
    "strat_test_set.info()"
   ]
  },
  {
   "cell_type": "code",
   "execution_count": 19,
   "id": "d9a17e79",
   "metadata": {},
   "outputs": [
    {
     "data": {
      "text/plain": [
       "0    171842\n",
       "1      8921\n",
       "Name: isWicketDelivery, dtype: int64"
      ]
     },
     "execution_count": 19,
     "metadata": {},
     "output_type": "execute_result"
    }
   ],
   "source": [
    "strat_train_set[\"isWicketDelivery\"].value_counts()"
   ]
  }
 ],
 "metadata": {
  "kernelspec": {
   "display_name": "Python 3 (ipykernel)",
   "language": "python",
   "name": "python3"
  },
  "language_info": {
   "codemirror_mode": {
    "name": "ipython",
    "version": 3
   },
   "file_extension": ".py",
   "mimetype": "text/x-python",
   "name": "python",
   "nbconvert_exporter": "python",
   "pygments_lexer": "ipython3",
   "version": "3.9.13"
  }
 },
 "nbformat": 4,
 "nbformat_minor": 5
}
