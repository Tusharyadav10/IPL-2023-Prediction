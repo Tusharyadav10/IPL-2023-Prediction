{
 "cells": [
  {
   "cell_type": "code",
   "execution_count": 1,
   "id": "c7a4c029",
   "metadata": {},
   "outputs": [],
   "source": [
    "import pandas as pd"
   ]
  },
  {
   "cell_type": "code",
   "execution_count": 2,
   "id": "ff44afe0",
   "metadata": {},
   "outputs": [
    {
     "name": "stdout",
     "output_type": "stream",
     "text": [
      "<class 'pandas.core.frame.DataFrame'>\n",
      "RangeIndex: 1928 entries, 0 to 1927\n",
      "Data columns (total 12 columns):\n",
      " #   Column        Non-Null Count  Dtype \n",
      "---  ------        --------------  ----- \n",
      " 0   ID            1928 non-null   int64 \n",
      " 1   innings       1928 non-null   int64 \n",
      " 2   BattingTeam   1928 non-null   object\n",
      " 3   TotalRuns     1928 non-null   int64 \n",
      " 4   Team1         1928 non-null   object\n",
      " 5   Team2         1928 non-null   object\n",
      " 6   Venue         1928 non-null   object\n",
      " 7   TossWinner    1928 non-null   object\n",
      " 8   TossDecision  1928 non-null   object\n",
      " 9   WinningTeam   1922 non-null   object\n",
      " 10  Team1Players  1928 non-null   object\n",
      " 11  Team2Players  1928 non-null   object\n",
      "dtypes: int64(3), object(9)\n",
      "memory usage: 180.9+ KB\n"
     ]
    }
   ],
   "source": [
    "df = pd.read_csv(\"cleaned_data2.csv\")\n",
    "df.info()"
   ]
  },
  {
   "cell_type": "code",
   "execution_count": 3,
   "id": "8bf5f9cd",
   "metadata": {},
   "outputs": [],
   "source": [
    "from sklearn.preprocessing import OrdinalEncoder"
   ]
  },
  {
   "cell_type": "code",
   "execution_count": 10,
   "id": "f96e9862",
   "metadata": {},
   "outputs": [
    {
     "data": {
      "text/html": [
       "<div>\n",
       "<style scoped>\n",
       "    .dataframe tbody tr th:only-of-type {\n",
       "        vertical-align: middle;\n",
       "    }\n",
       "\n",
       "    .dataframe tbody tr th {\n",
       "        vertical-align: top;\n",
       "    }\n",
       "\n",
       "    .dataframe thead th {\n",
       "        text-align: right;\n",
       "    }\n",
       "</style>\n",
       "<table border=\"1\" class=\"dataframe\">\n",
       "  <thead>\n",
       "    <tr style=\"text-align: right;\">\n",
       "      <th></th>\n",
       "      <th>ID</th>\n",
       "      <th>innings</th>\n",
       "      <th>BattingTeam</th>\n",
       "      <th>TotalRuns</th>\n",
       "      <th>Team1</th>\n",
       "      <th>Team2</th>\n",
       "      <th>Venue</th>\n",
       "      <th>TossWinner</th>\n",
       "      <th>TossDecision</th>\n",
       "      <th>WinningTeam</th>\n",
       "      <th>Team1Players</th>\n",
       "      <th>Team2Players</th>\n",
       "    </tr>\n",
       "  </thead>\n",
       "  <tbody>\n",
       "    <tr>\n",
       "      <th>0</th>\n",
       "      <td>335982</td>\n",
       "      <td>1</td>\n",
       "      <td>Kolkata Knight Riders</td>\n",
       "      <td>222</td>\n",
       "      <td>16.0</td>\n",
       "      <td>8.0</td>\n",
       "      <td>19.0</td>\n",
       "      <td>Royal Challengers Bangalore</td>\n",
       "      <td>field</td>\n",
       "      <td>Kolkata Knight Riders</td>\n",
       "      <td>['R Dravid', 'W Jaffer', 'V Kohli', 'JH Kallis...</td>\n",
       "      <td>['SC Ganguly', 'BB McCullum', 'RT Ponting', 'D...</td>\n",
       "    </tr>\n",
       "  </tbody>\n",
       "</table>\n",
       "</div>"
      ],
      "text/plain": [
       "       ID  innings            BattingTeam  TotalRuns  Team1  Team2  Venue  \\\n",
       "0  335982        1  Kolkata Knight Riders        222   16.0    8.0   19.0   \n",
       "\n",
       "                    TossWinner TossDecision            WinningTeam  \\\n",
       "0  Royal Challengers Bangalore        field  Kolkata Knight Riders   \n",
       "\n",
       "                                        Team1Players  \\\n",
       "0  ['R Dravid', 'W Jaffer', 'V Kohli', 'JH Kallis...   \n",
       "\n",
       "                                        Team2Players  \n",
       "0  ['SC Ganguly', 'BB McCullum', 'RT Ponting', 'D...  "
      ]
     },
     "execution_count": 10,
     "metadata": {},
     "output_type": "execute_result"
    }
   ],
   "source": [
    "features = ['Team1', 'Team2', 'Venue']\n",
    "encoder = OrdinalEncoder(handle_unknown='use_encoded_value', unknown_value=-1).fit(df1[features])\n",
    "df1 = df\n",
    "df1[features] = encoder.transform(df1[features])\n",
    "df1.head(1)"
   ]
  },
  {
   "cell_type": "code",
   "execution_count": 11,
   "id": "ef6a4b6d",
   "metadata": {},
   "outputs": [
    {
     "data": {
      "text/html": [
       "<div>\n",
       "<style scoped>\n",
       "    .dataframe tbody tr th:only-of-type {\n",
       "        vertical-align: middle;\n",
       "    }\n",
       "\n",
       "    .dataframe tbody tr th {\n",
       "        vertical-align: top;\n",
       "    }\n",
       "\n",
       "    .dataframe thead th {\n",
       "        text-align: right;\n",
       "    }\n",
       "</style>\n",
       "<table border=\"1\" class=\"dataframe\">\n",
       "  <thead>\n",
       "    <tr style=\"text-align: right;\">\n",
       "      <th></th>\n",
       "      <th>ID</th>\n",
       "      <th>innings</th>\n",
       "      <th>BattingTeam</th>\n",
       "      <th>TotalRuns</th>\n",
       "      <th>Team1</th>\n",
       "      <th>Team2</th>\n",
       "      <th>Venue</th>\n",
       "      <th>TossWinner</th>\n",
       "      <th>TossDecision</th>\n",
       "      <th>WinningTeam</th>\n",
       "      <th>Team1Players</th>\n",
       "      <th>Team2Players</th>\n",
       "    </tr>\n",
       "  </thead>\n",
       "  <tbody>\n",
       "    <tr>\n",
       "      <th>0</th>\n",
       "      <td>335982</td>\n",
       "      <td>1</td>\n",
       "      <td>Kolkata Knight Riders</td>\n",
       "      <td>222</td>\n",
       "      <td>16.0</td>\n",
       "      <td>8.0</td>\n",
       "      <td>19.0</td>\n",
       "      <td>Royal Challengers Bangalore</td>\n",
       "      <td>field</td>\n",
       "      <td>Kolkata Knight Riders</td>\n",
       "      <td>662.0</td>\n",
       "      <td>781.0</td>\n",
       "    </tr>\n",
       "  </tbody>\n",
       "</table>\n",
       "</div>"
      ],
      "text/plain": [
       "       ID  innings            BattingTeam  TotalRuns  Team1  Team2  Venue  \\\n",
       "0  335982        1  Kolkata Knight Riders        222   16.0    8.0   19.0   \n",
       "\n",
       "                    TossWinner TossDecision            WinningTeam  \\\n",
       "0  Royal Challengers Bangalore        field  Kolkata Knight Riders   \n",
       "\n",
       "   Team1Players  Team2Players  \n",
       "0         662.0         781.0  "
      ]
     },
     "execution_count": 11,
     "metadata": {},
     "output_type": "execute_result"
    }
   ],
   "source": [
    "features2 = ['Team1', 'Team2', 'Venue', 'Team1Players', 'Team2Players']\n",
    "df2 = df\n",
    "#df2[features2].info()\n",
    "\n",
    "encoder = OrdinalEncoder(handle_unknown='use_encoded_value', unknown_value=-1).fit(df2[features2])\n",
    "df2[features2] = encoder.transform(df2[features2])\n",
    "df2.head(1)"
   ]
  },
  {
   "cell_type": "markdown",
   "id": "39c1535b",
   "metadata": {},
   "source": [
    "### Checking string-encoded categorical data"
   ]
  },
  {
   "cell_type": "code",
   "execution_count": 13,
   "id": "08bb2ce8",
   "metadata": {
    "scrolled": true
   },
   "outputs": [
    {
     "data": {
      "text/plain": [
       "Mumbai Indians                 236\n",
       "Royal Challengers Bangalore    229\n",
       "Kolkata Knight Riders          227\n",
       "Chennai Super Kings            209\n",
       "Kings XI Punjab                195\n",
       "Rajasthan Royals               194\n",
       "Delhi Daredevils               162\n",
       "Sunrisers Hyderabad            156\n",
       "Deccan Chargers                 75\n",
       "Delhi Capitals                  66\n",
       "Pune Warriors                   45\n",
       "Gujarat Lions                   31\n",
       "Punjab Kings                    28\n",
       "Rising Pune Supergiant          16\n",
       "Gujarat Titans                  16\n",
       "Lucknow Super Giants            15\n",
       "Rising Pune Supergiants         14\n",
       "Kochi Tuskers Kerala            14\n",
       "Name: BattingTeam, dtype: int64"
      ]
     },
     "execution_count": 13,
     "metadata": {},
     "output_type": "execute_result"
    }
   ],
   "source": [
    "df3 = df\n",
    "df3.BattingTeam.value_counts()"
   ]
  },
  {
   "cell_type": "markdown",
   "id": "e88620da",
   "metadata": {},
   "source": [
    "### Removing duplicates (Delhi Daredevils and Delhi capitals are same team)"
   ]
  },
  {
   "cell_type": "code",
   "execution_count": null,
   "id": "2ebc8aba",
   "metadata": {},
   "outputs": [],
   "source": []
  },
  {
   "cell_type": "markdown",
   "id": "252c6327",
   "metadata": {},
   "source": [
    "### Encoding data in pandas"
   ]
  },
  {
   "cell_type": "code",
   "execution_count": 15,
   "id": "78fc0b3d",
   "metadata": {
    "scrolled": true
   },
   "outputs": [
    {
     "name": "stdout",
     "output_type": "stream",
     "text": [
      "Original features:\n",
      " ['ID', 'innings', 'BattingTeam', 'TotalRuns', 'Team1', 'Team2', 'Venue', 'TossWinner', 'TossDecision', 'WinningTeam', 'Team1Players', 'Team2Players']\n",
      "Features after get_dummies:\n"
     ]
    },
    {
     "data": {
      "text/plain": [
       "['ID',\n",
       " 'innings',\n",
       " 'TotalRuns',\n",
       " 'Team1',\n",
       " 'Team2',\n",
       " 'Venue',\n",
       " 'Team1Players',\n",
       " 'Team2Players',\n",
       " 'BattingTeam_Chennai Super Kings',\n",
       " 'BattingTeam_Deccan Chargers',\n",
       " 'BattingTeam_Delhi Capitals',\n",
       " 'BattingTeam_Delhi Daredevils',\n",
       " 'BattingTeam_Gujarat Lions',\n",
       " 'BattingTeam_Gujarat Titans',\n",
       " 'BattingTeam_Kings XI Punjab',\n",
       " 'BattingTeam_Kochi Tuskers Kerala',\n",
       " 'BattingTeam_Kolkata Knight Riders',\n",
       " 'BattingTeam_Lucknow Super Giants',\n",
       " 'BattingTeam_Mumbai Indians',\n",
       " 'BattingTeam_Pune Warriors',\n",
       " 'BattingTeam_Punjab Kings',\n",
       " 'BattingTeam_Rajasthan Royals',\n",
       " 'BattingTeam_Rising Pune Supergiant',\n",
       " 'BattingTeam_Rising Pune Supergiants',\n",
       " 'BattingTeam_Royal Challengers Bangalore',\n",
       " 'BattingTeam_Sunrisers Hyderabad',\n",
       " 'TossWinner_Chennai Super Kings',\n",
       " 'TossWinner_Deccan Chargers',\n",
       " 'TossWinner_Delhi Capitals',\n",
       " 'TossWinner_Delhi Daredevils',\n",
       " 'TossWinner_Gujarat Lions',\n",
       " 'TossWinner_Gujarat Titans',\n",
       " 'TossWinner_Kings XI Punjab',\n",
       " 'TossWinner_Kochi Tuskers Kerala',\n",
       " 'TossWinner_Kolkata Knight Riders',\n",
       " 'TossWinner_Lucknow Super Giants',\n",
       " 'TossWinner_Mumbai Indians',\n",
       " 'TossWinner_Pune Warriors',\n",
       " 'TossWinner_Punjab Kings',\n",
       " 'TossWinner_Rajasthan Royals',\n",
       " 'TossWinner_Rising Pune Supergiant',\n",
       " 'TossWinner_Rising Pune Supergiants',\n",
       " 'TossWinner_Royal Challengers Bangalore',\n",
       " 'TossWinner_Sunrisers Hyderabad',\n",
       " 'TossDecision_bat',\n",
       " 'TossDecision_field',\n",
       " 'WinningTeam_Chennai Super Kings',\n",
       " 'WinningTeam_Deccan Chargers',\n",
       " 'WinningTeam_Delhi Capitals',\n",
       " 'WinningTeam_Delhi Daredevils',\n",
       " 'WinningTeam_Gujarat Lions',\n",
       " 'WinningTeam_Gujarat Titans',\n",
       " 'WinningTeam_Kings XI Punjab',\n",
       " 'WinningTeam_Kochi Tuskers Kerala',\n",
       " 'WinningTeam_Kolkata Knight Riders',\n",
       " 'WinningTeam_Lucknow Super Giants',\n",
       " 'WinningTeam_Mumbai Indians',\n",
       " 'WinningTeam_Pune Warriors',\n",
       " 'WinningTeam_Punjab Kings',\n",
       " 'WinningTeam_Rajasthan Royals',\n",
       " 'WinningTeam_Rising Pune Supergiant',\n",
       " 'WinningTeam_Rising Pune Supergiants',\n",
       " 'WinningTeam_Royal Challengers Bangalore',\n",
       " 'WinningTeam_Sunrisers Hyderabad']"
      ]
     },
     "execution_count": 15,
     "metadata": {},
     "output_type": "execute_result"
    }
   ],
   "source": [
    "print(\"Original features:\\n\", list(df3.columns))\n",
    "\n",
    "data_dummies = pd.get_dummies(df3)\n",
    "print(\"Features after get_dummies:\")\n",
    "list(data_dummies.columns)"
   ]
  },
  {
   "cell_type": "code",
   "execution_count": 16,
   "id": "e661170b",
   "metadata": {},
   "outputs": [
    {
     "data": {
      "text/html": [
       "<div>\n",
       "<style scoped>\n",
       "    .dataframe tbody tr th:only-of-type {\n",
       "        vertical-align: middle;\n",
       "    }\n",
       "\n",
       "    .dataframe tbody tr th {\n",
       "        vertical-align: top;\n",
       "    }\n",
       "\n",
       "    .dataframe thead th {\n",
       "        text-align: right;\n",
       "    }\n",
       "</style>\n",
       "<table border=\"1\" class=\"dataframe\">\n",
       "  <thead>\n",
       "    <tr style=\"text-align: right;\">\n",
       "      <th></th>\n",
       "      <th>ID</th>\n",
       "      <th>innings</th>\n",
       "      <th>TotalRuns</th>\n",
       "      <th>Team1</th>\n",
       "      <th>Team2</th>\n",
       "      <th>Venue</th>\n",
       "      <th>Team1Players</th>\n",
       "      <th>Team2Players</th>\n",
       "      <th>BattingTeam_Chennai Super Kings</th>\n",
       "      <th>BattingTeam_Deccan Chargers</th>\n",
       "      <th>...</th>\n",
       "      <th>WinningTeam_Kolkata Knight Riders</th>\n",
       "      <th>WinningTeam_Lucknow Super Giants</th>\n",
       "      <th>WinningTeam_Mumbai Indians</th>\n",
       "      <th>WinningTeam_Pune Warriors</th>\n",
       "      <th>WinningTeam_Punjab Kings</th>\n",
       "      <th>WinningTeam_Rajasthan Royals</th>\n",
       "      <th>WinningTeam_Rising Pune Supergiant</th>\n",
       "      <th>WinningTeam_Rising Pune Supergiants</th>\n",
       "      <th>WinningTeam_Royal Challengers Bangalore</th>\n",
       "      <th>WinningTeam_Sunrisers Hyderabad</th>\n",
       "    </tr>\n",
       "  </thead>\n",
       "  <tbody>\n",
       "    <tr>\n",
       "      <th>0</th>\n",
       "      <td>335982</td>\n",
       "      <td>1</td>\n",
       "      <td>222</td>\n",
       "      <td>16.0</td>\n",
       "      <td>8.0</td>\n",
       "      <td>19.0</td>\n",
       "      <td>662.0</td>\n",
       "      <td>781.0</td>\n",
       "      <td>0</td>\n",
       "      <td>0</td>\n",
       "      <td>...</td>\n",
       "      <td>1</td>\n",
       "      <td>0</td>\n",
       "      <td>0</td>\n",
       "      <td>0</td>\n",
       "      <td>0</td>\n",
       "      <td>0</td>\n",
       "      <td>0</td>\n",
       "      <td>0</td>\n",
       "      <td>0</td>\n",
       "      <td>0</td>\n",
       "    </tr>\n",
       "    <tr>\n",
       "      <th>1</th>\n",
       "      <td>335982</td>\n",
       "      <td>2</td>\n",
       "      <td>82</td>\n",
       "      <td>16.0</td>\n",
       "      <td>8.0</td>\n",
       "      <td>19.0</td>\n",
       "      <td>662.0</td>\n",
       "      <td>781.0</td>\n",
       "      <td>0</td>\n",
       "      <td>0</td>\n",
       "      <td>...</td>\n",
       "      <td>1</td>\n",
       "      <td>0</td>\n",
       "      <td>0</td>\n",
       "      <td>0</td>\n",
       "      <td>0</td>\n",
       "      <td>0</td>\n",
       "      <td>0</td>\n",
       "      <td>0</td>\n",
       "      <td>0</td>\n",
       "      <td>0</td>\n",
       "    </tr>\n",
       "    <tr>\n",
       "      <th>2</th>\n",
       "      <td>335983</td>\n",
       "      <td>1</td>\n",
       "      <td>240</td>\n",
       "      <td>6.0</td>\n",
       "      <td>0.0</td>\n",
       "      <td>33.0</td>\n",
       "      <td>377.0</td>\n",
       "      <td>567.0</td>\n",
       "      <td>1</td>\n",
       "      <td>0</td>\n",
       "      <td>...</td>\n",
       "      <td>0</td>\n",
       "      <td>0</td>\n",
       "      <td>0</td>\n",
       "      <td>0</td>\n",
       "      <td>0</td>\n",
       "      <td>0</td>\n",
       "      <td>0</td>\n",
       "      <td>0</td>\n",
       "      <td>0</td>\n",
       "      <td>0</td>\n",
       "    </tr>\n",
       "    <tr>\n",
       "      <th>3</th>\n",
       "      <td>335983</td>\n",
       "      <td>2</td>\n",
       "      <td>207</td>\n",
       "      <td>6.0</td>\n",
       "      <td>0.0</td>\n",
       "      <td>33.0</td>\n",
       "      <td>377.0</td>\n",
       "      <td>567.0</td>\n",
       "      <td>0</td>\n",
       "      <td>0</td>\n",
       "      <td>...</td>\n",
       "      <td>0</td>\n",
       "      <td>0</td>\n",
       "      <td>0</td>\n",
       "      <td>0</td>\n",
       "      <td>0</td>\n",
       "      <td>0</td>\n",
       "      <td>0</td>\n",
       "      <td>0</td>\n",
       "      <td>0</td>\n",
       "      <td>0</td>\n",
       "    </tr>\n",
       "    <tr>\n",
       "      <th>4</th>\n",
       "      <td>335984</td>\n",
       "      <td>1</td>\n",
       "      <td>129</td>\n",
       "      <td>3.0</td>\n",
       "      <td>13.0</td>\n",
       "      <td>13.0</td>\n",
       "      <td>291.0</td>\n",
       "      <td>876.0</td>\n",
       "      <td>0</td>\n",
       "      <td>0</td>\n",
       "      <td>...</td>\n",
       "      <td>0</td>\n",
       "      <td>0</td>\n",
       "      <td>0</td>\n",
       "      <td>0</td>\n",
       "      <td>0</td>\n",
       "      <td>0</td>\n",
       "      <td>0</td>\n",
       "      <td>0</td>\n",
       "      <td>0</td>\n",
       "      <td>0</td>\n",
       "    </tr>\n",
       "  </tbody>\n",
       "</table>\n",
       "<p>5 rows × 64 columns</p>\n",
       "</div>"
      ],
      "text/plain": [
       "       ID  innings  TotalRuns  Team1  Team2  Venue  Team1Players  \\\n",
       "0  335982        1        222   16.0    8.0   19.0         662.0   \n",
       "1  335982        2         82   16.0    8.0   19.0         662.0   \n",
       "2  335983        1        240    6.0    0.0   33.0         377.0   \n",
       "3  335983        2        207    6.0    0.0   33.0         377.0   \n",
       "4  335984        1        129    3.0   13.0   13.0         291.0   \n",
       "\n",
       "   Team2Players  BattingTeam_Chennai Super Kings  BattingTeam_Deccan Chargers  \\\n",
       "0         781.0                                0                            0   \n",
       "1         781.0                                0                            0   \n",
       "2         567.0                                1                            0   \n",
       "3         567.0                                0                            0   \n",
       "4         876.0                                0                            0   \n",
       "\n",
       "   ...  WinningTeam_Kolkata Knight Riders  WinningTeam_Lucknow Super Giants  \\\n",
       "0  ...                                  1                                 0   \n",
       "1  ...                                  1                                 0   \n",
       "2  ...                                  0                                 0   \n",
       "3  ...                                  0                                 0   \n",
       "4  ...                                  0                                 0   \n",
       "\n",
       "   WinningTeam_Mumbai Indians  WinningTeam_Pune Warriors  \\\n",
       "0                           0                          0   \n",
       "1                           0                          0   \n",
       "2                           0                          0   \n",
       "3                           0                          0   \n",
       "4                           0                          0   \n",
       "\n",
       "   WinningTeam_Punjab Kings  WinningTeam_Rajasthan Royals  \\\n",
       "0                         0                             0   \n",
       "1                         0                             0   \n",
       "2                         0                             0   \n",
       "3                         0                             0   \n",
       "4                         0                             0   \n",
       "\n",
       "   WinningTeam_Rising Pune Supergiant  WinningTeam_Rising Pune Supergiants  \\\n",
       "0                                   0                                    0   \n",
       "1                                   0                                    0   \n",
       "2                                   0                                    0   \n",
       "3                                   0                                    0   \n",
       "4                                   0                                    0   \n",
       "\n",
       "   WinningTeam_Royal Challengers Bangalore  WinningTeam_Sunrisers Hyderabad  \n",
       "0                                        0                                0  \n",
       "1                                        0                                0  \n",
       "2                                        0                                0  \n",
       "3                                        0                                0  \n",
       "4                                        0                                0  \n",
       "\n",
       "[5 rows x 64 columns]"
      ]
     },
     "execution_count": 16,
     "metadata": {},
     "output_type": "execute_result"
    }
   ],
   "source": [
    "data_dummies.head()"
   ]
  },
  {
   "cell_type": "code",
   "execution_count": 21,
   "id": "f69cbb04",
   "metadata": {},
   "outputs": [
    {
     "name": "stdout",
     "output_type": "stream",
     "text": [
      "X.shape: (1928, 56) y.shape: (1928,)\n"
     ]
    }
   ],
   "source": [
    "features3 = data_dummies.loc[:, 'BattingTeam_Chennai Super Kings':'WinningTeam_Sunrisers Hyderabad']\n",
    "# Extract NumPy arrays\n",
    "X = features3.values\n",
    "y = data_dummies['TotalRuns'].values\n",
    "print(\"X.shape: {} y.shape: {}\".format(X.shape, y.shape))"
   ]
  },
  {
   "cell_type": "code",
   "execution_count": 22,
   "id": "a9f491f0",
   "metadata": {},
   "outputs": [
    {
     "name": "stdout",
     "output_type": "stream",
     "text": [
      "Test score: 0.02\n"
     ]
    }
   ],
   "source": [
    "from sklearn.linear_model import LogisticRegression\n",
    "from sklearn.model_selection import train_test_split\n",
    "\n",
    "X_train, X_test, y_train, y_test = train_test_split(X, y, random_state=0)\n",
    "logreg = LogisticRegression()\n",
    "logreg.fit(X_train, y_train)\n",
    "print(\"Test score: {:.2f}\".format(logreg.score(X_test, y_test)))"
   ]
  },
  {
   "cell_type": "code",
   "execution_count": 24,
   "id": "ec34ade4",
   "metadata": {},
   "outputs": [
    {
     "name": "stdout",
     "output_type": "stream",
     "text": [
      "Mean squared error is:  1696.3381742738588\n"
     ]
    }
   ],
   "source": [
    "from sklearn.metrics import mean_squared_error\n",
    "\n",
    "match_y_predicted = logreg.predict(X_test)\n",
    "match_y_test = y_test\n",
    "\n",
    "print(\"Mean squared error is: \", mean_squared_error(match_y_test, match_y_predicted))"
   ]
  },
  {
   "cell_type": "code",
   "execution_count": 30,
   "id": "740530b7",
   "metadata": {},
   "outputs": [
    {
     "name": "stdout",
     "output_type": "stream",
     "text": [
      "Test score: -0.02\n",
      "Mean squared error is:  1363.6337629712064\n"
     ]
    }
   ],
   "source": [
    "from sklearn.ensemble import RandomForestRegressor\n",
    "\n",
    "ranforeg = RandomForestRegressor(n_estimators=42)\n",
    "ranforeg.fit(X_train, y_train)\n",
    "print(\"Test score: {:.2f}\".format(ranforeg.score(X_test, y_test)))\n",
    "match_y_predicted = ranforeg.predict(X_test)\n",
    "print(\"Mean squared error is: \", mean_squared_error(match_y_test, match_y_predicted))"
   ]
  }
 ],
 "metadata": {
  "kernelspec": {
   "display_name": "Python 3 (ipykernel)",
   "language": "python",
   "name": "python3"
  },
  "language_info": {
   "codemirror_mode": {
    "name": "ipython",
    "version": 3
   },
   "file_extension": ".py",
   "mimetype": "text/x-python",
   "name": "python",
   "nbconvert_exporter": "python",
   "pygments_lexer": "ipython3",
   "version": "3.9.13"
  }
 },
 "nbformat": 4,
 "nbformat_minor": 5
}
